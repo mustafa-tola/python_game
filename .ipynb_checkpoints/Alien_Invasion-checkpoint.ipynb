{
 "cells": [
  {
   "cell_type": "code",
   "execution_count": null,
   "metadata": {},
   "outputs": [
    {
     "name": "stdout",
     "output_type": "stream",
     "text": [
      "pygame 1.9.6\n",
      "Hello from the pygame community. https://www.pygame.org/contribute.html\n"
     ]
    }
   ],
   "source": [
    "import pygame\n",
    "from Settings import Settings\n",
    "from Ship import Ship\n",
    "import game_functions as gf\n",
    "def run_game():\n",
    " # Initialize pygame, settings, and screen object.\n",
    "    pygame.init()\n",
    "    ai_settings = Settings()\n",
    "    screen = pygame.display.set_mode((ai_settings.screen_width,ai_settings.screen_height))\n",
    "    pygame.display.set_caption(\"Alien Invasion\")\n",
    "    # Make a ship.\n",
    "    ship = Ship(screen)\n",
    " # Start the main loop for the game.\n",
    "    while True:\n",
    "        gf.check_events()\n",
    "        gf.update_screen(ai_settings, screen, ship)\n",
    "run_game()"
   ]
  },
  {
   "cell_type": "code",
   "execution_count": null,
   "metadata": {},
   "outputs": [],
   "source": []
  },
  {
   "cell_type": "code",
   "execution_count": null,
   "metadata": {},
   "outputs": [],
   "source": []
  },
  {
   "cell_type": "code",
   "execution_count": null,
   "metadata": {},
   "outputs": [],
   "source": []
  }
 ],
 "metadata": {
  "kernelspec": {
   "display_name": "Python 3",
   "language": "python",
   "name": "python3"
  },
  "language_info": {
   "codemirror_mode": {
    "name": "ipython",
    "version": 3
   },
   "file_extension": ".py",
   "mimetype": "text/x-python",
   "name": "python",
   "nbconvert_exporter": "python",
   "pygments_lexer": "ipython3",
   "version": "3.7.3"
  }
 },
 "nbformat": 4,
 "nbformat_minor": 2
}
